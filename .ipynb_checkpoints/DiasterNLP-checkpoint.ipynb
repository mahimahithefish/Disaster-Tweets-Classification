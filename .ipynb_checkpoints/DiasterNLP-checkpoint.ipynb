{
 "cells": [
  {
   "cell_type": "markdown",
   "metadata": {},
   "source": [
    "# Disaster Tweet Classification"
   ]
  },
  {
   "cell_type": "markdown",
   "metadata": {},
   "source": [
    "***Console***"
   ]
  },
  {
   "cell_type": "code",
   "execution_count": null,
   "metadata": {
    "scrolled": true
   },
   "outputs": [],
   "source": []
  },
  {
   "cell_type": "markdown",
   "metadata": {},
   "source": [
    "***Importing Libraries***"
   ]
  },
  {
   "cell_type": "code",
   "execution_count": 97,
   "metadata": {},
   "outputs": [],
   "source": [
    "import pandas as pd\n",
    "import re\n",
    "import nltk\n",
    "from nltk.corpus import stopwords"
   ]
  },
  {
   "cell_type": "markdown",
   "metadata": {},
   "source": [
    "***Importing Files***"
   ]
  },
  {
   "cell_type": "code",
   "execution_count": 98,
   "metadata": {},
   "outputs": [],
   "source": [
    "testCSV = pd.read_csv(\"./data/test.csv\")\n",
    "trainCSV = pd.read_csv(\"./data/train.csv\")\n"
   ]
  },
  {
   "cell_type": "markdown",
   "metadata": {},
   "source": [
    "***Viewing data***"
   ]
  },
  {
   "cell_type": "code",
   "execution_count": 71,
   "metadata": {},
   "outputs": [
    {
     "data": {
      "text/plain": [
       "(7613, 5)"
      ]
     },
     "execution_count": 71,
     "metadata": {},
     "output_type": "execute_result"
    }
   ],
   "source": [
    "trainCSV.isnull().sum()\n",
    "trainCSV.shape"
   ]
  },
  {
   "cell_type": "markdown",
   "metadata": {},
   "source": [
    "***Cleaning Text and Removing stopwords***"
   ]
  },
  {
   "cell_type": "code",
   "execution_count": null,
   "metadata": {},
   "outputs": [],
   "source": [
    "#Loops through all the text\n",
    "\n",
    "def cleanText(df):\n",
    "    \n",
    "    stopWords = set(stopwords.words(\"english\"))\n",
    "    \n",
    "    for index, row in df.iterrows():\n",
    "        curText = row.text\n",
    "        \n",
    "        #Makes lowercase\n",
    "        curText = curText.lower()\n",
    "        \n",
    "        #removing stop words\n",
    "        curText = \" \".join(filter(lambda x:x not in stopWords, curText.split()))\n",
    "        \n",
    "        #removing all words starting with @\n",
    "        curText = \" \".join(filter(lambda x:x[0] != \"@\", curText.split()))\n",
    "        \n",
    "        # removes all links\n",
    "        webStart = \"http\"\n",
    "        curText = \" \".join(filter(lambda x:x[0:len(webStart)] != webStart, curText.split()))\n",
    "        \n",
    "        # removing all non alpha numeric char exlcuding period\n",
    "        curText = re.sub(r'[^a-z0-9. ]+', '',curText)\n",
    "        # removing \"...\" (multiple periods in a row)\n",
    "        curText = re.sub(r'([.])\\1+', '',curText)\n",
    "        # removing multiple spaces in a row\n",
    "        curText = re.sub(r'([ ])\\1+', '',curText)\n",
    "        \n",
    "            # removing multiple of the same character in a row\n",
    "            # curText = re.sub(r'([a-z])\\3+', r'\\2',curText)\n",
    "            \n",
    "        df.at[index,'text'] = curText\n",
    "        \n",
    "        \n",
    "cleanText(testCSV)\n",
    "cleanText(trainCSV)\n"
   ]
  },
  {
   "cell_type": "markdown",
   "metadata": {},
   "source": [
    "***Lemmitization***"
   ]
  },
  {
   "cell_type": "code",
   "execution_count": null,
   "metadata": {},
   "outputs": [],
   "source": []
  },
  {
   "cell_type": "markdown",
   "metadata": {},
   "source": [
    "***Vectorization***"
   ]
  },
  {
   "cell_type": "code",
   "execution_count": null,
   "metadata": {},
   "outputs": [],
   "source": []
  }
 ],
 "metadata": {
  "kernelspec": {
   "display_name": "Python 3",
   "language": "python",
   "name": "python3"
  },
  "language_info": {
   "codemirror_mode": {
    "name": "ipython",
    "version": 3
   },
   "file_extension": ".py",
   "mimetype": "text/x-python",
   "name": "python",
   "nbconvert_exporter": "python",
   "pygments_lexer": "ipython3",
   "version": "3.8.3"
  }
 },
 "nbformat": 4,
 "nbformat_minor": 4
}
