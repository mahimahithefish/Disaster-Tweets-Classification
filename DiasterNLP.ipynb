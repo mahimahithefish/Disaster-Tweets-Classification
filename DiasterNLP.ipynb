{
 "cells": [
  {
   "cell_type": "markdown",
   "metadata": {},
   "source": [
    "# Disaster Tweet Classification"
   ]
  },
  {
   "cell_type": "markdown",
   "metadata": {},
   "source": [
    "***Console***"
   ]
  },
  {
   "cell_type": "markdown",
   "metadata": {},
   "source": [
    "***Importing Libraries***"
   ]
  },
  {
   "cell_type": "code",
   "execution_count": 22,
   "metadata": {},
   "outputs": [
    {
     "ename": "ModuleNotFoundError",
     "evalue": "No module named 'spacy'",
     "output_type": "error",
     "traceback": [
      "\u001b[0;31m---------------------------------------------------------------------------\u001b[0m",
      "\u001b[0;31mModuleNotFoundError\u001b[0m                       Traceback (most recent call last)",
      "\u001b[0;32m/var/folders/1n/ysswfgs10kv731d984j0x6z80000gn/T/ipykernel_6183/4218088105.py\u001b[0m in \u001b[0;36m<module>\u001b[0;34m\u001b[0m\n\u001b[1;32m      3\u001b[0m \u001b[0;32mimport\u001b[0m \u001b[0mnltk\u001b[0m\u001b[0;34m\u001b[0m\u001b[0;34m\u001b[0m\u001b[0m\n\u001b[1;32m      4\u001b[0m \u001b[0;32mfrom\u001b[0m \u001b[0mnltk\u001b[0m\u001b[0;34m.\u001b[0m\u001b[0mcorpus\u001b[0m \u001b[0;32mimport\u001b[0m \u001b[0mstopwords\u001b[0m\u001b[0;34m\u001b[0m\u001b[0;34m\u001b[0m\u001b[0m\n\u001b[0;32m----> 5\u001b[0;31m \u001b[0;32mimport\u001b[0m \u001b[0mspacy\u001b[0m\u001b[0;34m\u001b[0m\u001b[0;34m\u001b[0m\u001b[0m\n\u001b[0m\u001b[1;32m      6\u001b[0m \u001b[0;32mimport\u001b[0m \u001b[0mscikit\u001b[0m\u001b[0;34m\u001b[0m\u001b[0;34m\u001b[0m\u001b[0m\n\u001b[1;32m      7\u001b[0m \u001b[0;32mfrom\u001b[0m \u001b[0msklearn\u001b[0m\u001b[0;34m.\u001b[0m\u001b[0mfeature_extraction\u001b[0m\u001b[0;34m.\u001b[0m\u001b[0mtext\u001b[0m \u001b[0;32mimport\u001b[0m \u001b[0mCountVectorizer\u001b[0m\u001b[0;34m\u001b[0m\u001b[0;34m\u001b[0m\u001b[0m\n",
      "\u001b[0;31mModuleNotFoundError\u001b[0m: No module named 'spacy'"
     ]
    }
   ],
   "source": [
    "import pandas as pd\n",
    "import re\n",
    "import nltk\n",
    "from nltk.corpus import stopwords\n",
    "import spacy\n",
    "import scikit\n",
    "from sklearn.feature_extraction.text import CountVectorizer"
   ]
  },
  {
   "cell_type": "markdown",
   "metadata": {},
   "source": [
    "***Importing Files***"
   ]
  },
  {
   "cell_type": "code",
   "execution_count": null,
   "metadata": {},
   "outputs": [],
   "source": [
    "testCSV = pd.read_csv(\"./data/test.csv\")\n",
    "trainCSV = pd.read_csv(\"./data/train.csv\")\n"
   ]
  },
  {
   "cell_type": "markdown",
   "metadata": {},
   "source": [
    "***Viewing data***"
   ]
  },
  {
   "cell_type": "code",
   "execution_count": null,
   "metadata": {},
   "outputs": [],
   "source": [
    "trainCSV.isnull().sum()\n",
    "trainCSV.shape"
   ]
  },
  {
   "cell_type": "markdown",
   "metadata": {},
   "source": [
    "***Cleaning Text and Removing stopwords***"
   ]
  },
  {
   "cell_type": "code",
   "execution_count": 99,
   "metadata": {},
   "outputs": [],
   "source": [
    "#Loops through all the text\n",
    "\n",
    "def cleanText(df):\n",
    "    \n",
    "    stopWords = set(stopwords.words(\"english\"))\n",
    "    \n",
    "    for index, row in df.iterrows():\n",
    "        curText = row.text\n",
    "        \n",
    "        #Makes lowercase\n",
    "        curText = curText.lower()\n",
    "        #removing stop words\n",
    "        curText = \" \".join(filter(lambda x:x not in stopWords, curText.split()))\n",
    "        #removing all words starting with @\n",
    "        curText = \" \".join(filter(lambda x:x[0] != \"@\", curText.split()))\n",
    "        # removes all links\n",
    "        webStart = \"http\"\n",
    "        curText = \" \".join(filter(lambda x:x[0:len(webStart)] != webStart, curText.split()))\n",
    "        # removing all non alpha numeric char exlcuding period\n",
    "        curText = re.sub(r'[^a-z0-9. ]+', '',curText)\n",
    "        # removing \"...\" (multiple periods in a row)\n",
    "        curText = re.sub(r'([.])\\1+', '',curText)\n",
    "        # removing multiple spaces in a row\n",
    "        curText = re.sub(r'([ ])\\1+', '',curText)\n",
    "        \n",
    "            # removing multiple of the same character in a row\n",
    "            # curText = re.sub(r'([a-z])\\3+', r'\\2',curText)\n",
    "            \n",
    "        df.at[index,'text'] = curText\n",
    "        \n",
    "        \n",
    "cleanText(testCSV)\n",
    "cleanText(trainCSV)\n"
   ]
  },
  {
   "cell_type": "markdown",
   "metadata": {},
   "source": [
    "***Lemmitization***"
   ]
  },
  {
   "cell_type": "code",
   "execution_count": null,
   "metadata": {},
   "outputs": [],
   "source": [
    "def lemm_tweets(df):\n",
    "    nlp = spacy.load('en_core_web_sm')\n",
    "    #convert the tweet column in to a list of strings\n",
    "    tweets = df['text'].tolist()\n",
    "    i = 0;\n",
    "    for tweet in tweets:\n",
    "        doc = nlp(tweet) #get current tweet\n",
    "        lemmatized_tweet = ''\n",
    "        for token in doc:\n",
    "            lemmatized_tweet += token.lemma_ # each token will now be lemmatized \n",
    "        tweets[i] = token.lemma_\n",
    "        i+=1\n",
    "    print(tweets)\n",
    "\n",
    "lemm_tweets(testCSV)\n",
    "lemm_tweets(trainCSV)    "
   ]
  },
  {
   "cell_type": "markdown",
   "metadata": {},
   "source": [
    "***Vectorization***"
   ]
  },
  {
   "cell_type": "code",
   "execution_count": 28,
   "metadata": {},
   "outputs": [
    {
     "ename": "NameError",
     "evalue": "name 'CountVectorizer' is not defined",
     "output_type": "error",
     "traceback": [
      "\u001b[0;31m---------------------------------------------------------------------------\u001b[0m",
      "\u001b[0;31mNameError\u001b[0m                                 Traceback (most recent call last)",
      "\u001b[0;32m/var/folders/1n/ysswfgs10kv731d984j0x6z80000gn/T/ipykernel_6183/763279233.py\u001b[0m in \u001b[0;36m<module>\u001b[0;34m\u001b[0m\n\u001b[1;32m     10\u001b[0m     \u001b[0;32mreturn\u001b[0m \u001b[0mvectorized_tweets\u001b[0m\u001b[0;34m\u001b[0m\u001b[0;34m\u001b[0m\u001b[0m\n\u001b[1;32m     11\u001b[0m \u001b[0;34m\u001b[0m\u001b[0m\n\u001b[0;32m---> 12\u001b[0;31m \u001b[0mtest_v\u001b[0m \u001b[0;34m=\u001b[0m \u001b[0mvectorize_tweets\u001b[0m\u001b[0;34m(\u001b[0m\u001b[0mtestCSV\u001b[0m\u001b[0;34m)\u001b[0m\u001b[0;34m\u001b[0m\u001b[0;34m\u001b[0m\u001b[0m\n\u001b[0m\u001b[1;32m     13\u001b[0m \u001b[0mtrain_v\u001b[0m \u001b[0;34m=\u001b[0m\u001b[0mvectorize_tweets\u001b[0m\u001b[0;34m(\u001b[0m\u001b[0mtrainCSV\u001b[0m\u001b[0;34m)\u001b[0m\u001b[0;34m\u001b[0m\u001b[0;34m\u001b[0m\u001b[0m\n",
      "\u001b[0;32m/var/folders/1n/ysswfgs10kv731d984j0x6z80000gn/T/ipykernel_6183/763279233.py\u001b[0m in \u001b[0;36mvectorize_tweets\u001b[0;34m(df)\u001b[0m\n\u001b[1;32m      1\u001b[0m \u001b[0;32mdef\u001b[0m \u001b[0mvectorize_tweets\u001b[0m\u001b[0;34m(\u001b[0m\u001b[0mdf\u001b[0m\u001b[0;34m)\u001b[0m\u001b[0;34m:\u001b[0m\u001b[0;34m\u001b[0m\u001b[0;34m\u001b[0m\u001b[0m\n\u001b[0;32m----> 2\u001b[0;31m     \u001b[0mcv\u001b[0m \u001b[0;34m=\u001b[0m \u001b[0mCountVectorizer\u001b[0m\u001b[0;34m(\u001b[0m\u001b[0;34m)\u001b[0m \u001b[0;31m#instance of countvectorizer\u001b[0m\u001b[0;34m\u001b[0m\u001b[0;34m\u001b[0m\u001b[0m\n\u001b[0m\u001b[1;32m      3\u001b[0m     \u001b[0mtweets\u001b[0m \u001b[0;34m=\u001b[0m \u001b[0mdf\u001b[0m\u001b[0;34m[\u001b[0m\u001b[0;34m'text'\u001b[0m\u001b[0;34m]\u001b[0m\u001b[0;34m.\u001b[0m\u001b[0mtolist\u001b[0m\u001b[0;34m(\u001b[0m\u001b[0;34m)\u001b[0m \u001b[0;31m#covert tweet col to a list\u001b[0m\u001b[0;34m\u001b[0m\u001b[0;34m\u001b[0m\u001b[0m\n\u001b[1;32m      4\u001b[0m \u001b[0;34m\u001b[0m\u001b[0m\n\u001b[1;32m      5\u001b[0m     \u001b[0mvectorized_tweets\u001b[0m \u001b[0;34m=\u001b[0m \u001b[0;34m[\u001b[0m\u001b[0;34m]\u001b[0m\u001b[0;34m\u001b[0m\u001b[0;34m\u001b[0m\u001b[0m\n",
      "\u001b[0;31mNameError\u001b[0m: name 'CountVectorizer' is not defined"
     ]
    }
   ],
   "source": [
    "def vectorize_tweets(df): \n",
    "    cv = CountVectorizer() #instance of countvectorizer\n",
    "    tweets = df['text'].tolist() #covert tweet col to a list\n",
    "    \n",
    "    vectorized_tweets = []\n",
    "    for tweet in tweets:\n",
    "        X = cv.fit_transform(tweet) \n",
    "        X = X.toarray()\n",
    "        vectorized_tweets.append(X)\n",
    "    return vectorized_tweets\n",
    "\n",
    "test_v = vectorize_tweets(testCSV)\n",
    "train_v = vectorize_tweets(trainCSV)   "
   ]
  }
 ],
 "metadata": {
  "kernelspec": {
   "display_name": "Python 3 (ipykernel)",
   "language": "python",
   "name": "python3"
  },
  "language_info": {
   "codemirror_mode": {
    "name": "ipython",
    "version": 3
   },
   "file_extension": ".py",
   "mimetype": "text/x-python",
   "name": "python",
   "nbconvert_exporter": "python",
   "pygments_lexer": "ipython3",
   "version": "3.9.7"
  }
 },
 "nbformat": 4,
 "nbformat_minor": 4
}
